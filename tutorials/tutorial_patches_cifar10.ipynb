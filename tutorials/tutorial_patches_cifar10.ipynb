{
  "nbformat": 4,
  "nbformat_minor": 0,
  "metadata": {
    "colab": {
      "provenance": [],
      "collapsed_sections": [
        "67zg66meRuH7",
        "QsssdRwjRzV6",
        "snUPs_5HR3ho",
        "VPSFfHZRPNZs",
        "w07aItonQzcb",
        "FSabgLEwRQ8j",
        "8PUvJSkxZM1x"
      ]
    },
    "kernelspec": {
      "name": "python3",
      "display_name": "Python 3"
    },
    "language_info": {
      "name": "python"
    }
  },
  "cells": [
    {
      "cell_type": "markdown",
      "source": [
        "# Tutorial: `intrinsic` applied to 3x3 patches from CIFAR-10 images"
      ],
      "metadata": {
        "id": "rcrZkq6Bc2Fp"
      }
    },
    {
      "cell_type": "markdown",
      "source": [
        "This notebook contains examples of application of geometry and topology methods from `intrinsic` package to a dataset of 3x3 patches obtained from CIFAR-10 images.\n",
        "\n",
        "The idea of the task is inspired by the paper\n",
        "> Gunnar Carlsson, Tigran Ishkhanov, Vin de Silva, and Afra Zomorodian: \"On the Local Behavior of Spaces of Natural Images\", [available here](https://math.uchicago.edu/~shmuel/AAT-readings/Data%20Analysis%20/mumford-carlsson%20et%20al.pdf)\n",
        "\n",
        "`intrinsic`: https://github.com/katyafilimoshina/intrinsic/"
      ],
      "metadata": {
        "id": "XRJ7qhomaZ5b"
      }
    },
    {
      "cell_type": "markdown",
      "source": [
        "## Import `intrinsic`"
      ],
      "metadata": {
        "id": "67zg66meRuH7"
      }
    },
    {
      "cell_type": "code",
      "source": [
        "!git clone https://github.com/katyafilimoshina/intrinsic.git"
      ],
      "metadata": {
        "colab": {
          "base_uri": "https://localhost:8080/"
        },
        "id": "ryiCPUJMEod6",
        "outputId": "1967ba4e-43bd-46e8-ed9b-e3ebc48fabac"
      },
      "execution_count": 1,
      "outputs": [
        {
          "output_type": "stream",
          "name": "stdout",
          "text": [
            "Cloning into 'intrinsic'...\n",
            "remote: Enumerating objects: 96, done.\u001b[K\n",
            "remote: Counting objects: 100% (96/96), done.\u001b[K\n",
            "remote: Compressing objects: 100% (71/71), done.\u001b[K\n",
            "remote: Total 96 (delta 43), reused 76 (delta 23), pack-reused 0\u001b[K\n",
            "Receiving objects: 100% (96/96), 35.09 KiB | 1.85 MiB/s, done.\n",
            "Resolving deltas: 100% (43/43), done.\n"
          ]
        }
      ]
    },
    {
      "cell_type": "code",
      "source": [
        "import intrinsic"
      ],
      "metadata": {
        "id": "dRG7LIQrFDga"
      },
      "execution_count": 2,
      "outputs": []
    },
    {
      "cell_type": "markdown",
      "source": [
        "## Installs and imports"
      ],
      "metadata": {
        "id": "QsssdRwjRzV6"
      }
    },
    {
      "cell_type": "code",
      "source": [
        "# Install required packages\n",
        "!pip install gudhi ripser giotto-ph pot\n",
        "\n",
        "# Import necessary libraries\n",
        "import numpy as np\n",
        "import torch\n",
        "from torchvision import datasets, transforms\n",
        "import torchvision\n",
        "from sklearn.utils import shuffle\n",
        "import matplotlib.pyplot as plt\n",
        "import random"
      ],
      "metadata": {
        "colab": {
          "base_uri": "https://localhost:8080/"
        },
        "id": "-Hg3RBJUMz1V",
        "outputId": "6f2549cb-4491-4ad5-ed0d-5ff70b34dc55"
      },
      "execution_count": 3,
      "outputs": [
        {
          "output_type": "stream",
          "name": "stdout",
          "text": [
            "Collecting gudhi\n",
            "  Downloading gudhi-3.10.1-cp310-cp310-manylinux_2_17_x86_64.manylinux2014_x86_64.whl (3.3 MB)\n",
            "\u001b[2K     \u001b[90m━━━━━━━━━━━━━━━━━━━━━━━━━━━━━━━━━━━━━━━━\u001b[0m \u001b[32m3.3/3.3 MB\u001b[0m \u001b[31m8.4 MB/s\u001b[0m eta \u001b[36m0:00:00\u001b[0m\n",
            "\u001b[?25hCollecting ripser\n",
            "  Downloading ripser-0.6.10-cp310-cp310-manylinux_2_17_x86_64.manylinux2014_x86_64.whl (834 kB)\n",
            "\u001b[2K     \u001b[90m━━━━━━━━━━━━━━━━━━━━━━━━━━━━━━━━━━━━━━━━\u001b[0m \u001b[32m834.5/834.5 kB\u001b[0m \u001b[31m23.2 MB/s\u001b[0m eta \u001b[36m0:00:00\u001b[0m\n",
            "\u001b[?25hCollecting giotto-ph\n",
            "  Downloading giotto_ph-0.2.4-cp310-cp310-manylinux_2_17_x86_64.manylinux2014_x86_64.whl (554 kB)\n",
            "\u001b[2K     \u001b[90m━━━━━━━━━━━━━━━━━━━━━━━━━━━━━━━━━━━━━━━━\u001b[0m \u001b[32m554.6/554.6 kB\u001b[0m \u001b[31m30.3 MB/s\u001b[0m eta \u001b[36m0:00:00\u001b[0m\n",
            "\u001b[?25hCollecting pot\n",
            "  Downloading POT-0.9.4-cp310-cp310-manylinux_2_17_x86_64.manylinux2014_x86_64.whl (835 kB)\n",
            "\u001b[2K     \u001b[90m━━━━━━━━━━━━━━━━━━━━━━━━━━━━━━━━━━━━━━━━\u001b[0m \u001b[32m835.4/835.4 kB\u001b[0m \u001b[31m28.5 MB/s\u001b[0m eta \u001b[36m0:00:00\u001b[0m\n",
            "\u001b[?25hRequirement already satisfied: numpy>=1.15.0 in /usr/local/lib/python3.10/dist-packages (from gudhi) (1.25.2)\n",
            "Requirement already satisfied: Cython in /usr/local/lib/python3.10/dist-packages (from ripser) (3.0.10)\n",
            "Collecting persim (from ripser)\n",
            "  Downloading persim-0.3.7-py3-none-any.whl (48 kB)\n",
            "\u001b[2K     \u001b[90m━━━━━━━━━━━━━━━━━━━━━━━━━━━━━━━━━━━━━━━━\u001b[0m \u001b[32m48.6/48.6 kB\u001b[0m \u001b[31m3.6 MB/s\u001b[0m eta \u001b[36m0:00:00\u001b[0m\n",
            "\u001b[?25hRequirement already satisfied: scipy in /usr/local/lib/python3.10/dist-packages (from ripser) (1.11.4)\n",
            "Requirement already satisfied: scikit-learn in /usr/local/lib/python3.10/dist-packages (from ripser) (1.2.2)\n",
            "Requirement already satisfied: joblib>=1.1.1 in /usr/local/lib/python3.10/dist-packages (from scikit-learn->ripser) (1.4.2)\n",
            "Requirement already satisfied: threadpoolctl>=2.0.0 in /usr/local/lib/python3.10/dist-packages (from scikit-learn->ripser) (3.5.0)\n",
            "Collecting deprecated (from persim->ripser)\n",
            "  Downloading Deprecated-1.2.14-py2.py3-none-any.whl (9.6 kB)\n",
            "Collecting hopcroftkarp (from persim->ripser)\n",
            "  Downloading hopcroftkarp-1.2.5.tar.gz (16 kB)\n",
            "  Preparing metadata (setup.py) ... \u001b[?25l\u001b[?25hdone\n",
            "Requirement already satisfied: matplotlib in /usr/local/lib/python3.10/dist-packages (from persim->ripser) (3.7.1)\n",
            "Requirement already satisfied: wrapt<2,>=1.10 in /usr/local/lib/python3.10/dist-packages (from deprecated->persim->ripser) (1.14.1)\n",
            "Requirement already satisfied: contourpy>=1.0.1 in /usr/local/lib/python3.10/dist-packages (from matplotlib->persim->ripser) (1.2.1)\n",
            "Requirement already satisfied: cycler>=0.10 in /usr/local/lib/python3.10/dist-packages (from matplotlib->persim->ripser) (0.12.1)\n",
            "Requirement already satisfied: fonttools>=4.22.0 in /usr/local/lib/python3.10/dist-packages (from matplotlib->persim->ripser) (4.53.1)\n",
            "Requirement already satisfied: kiwisolver>=1.0.1 in /usr/local/lib/python3.10/dist-packages (from matplotlib->persim->ripser) (1.4.5)\n",
            "Requirement already satisfied: packaging>=20.0 in /usr/local/lib/python3.10/dist-packages (from matplotlib->persim->ripser) (24.1)\n",
            "Requirement already satisfied: pillow>=6.2.0 in /usr/local/lib/python3.10/dist-packages (from matplotlib->persim->ripser) (9.4.0)\n",
            "Requirement already satisfied: pyparsing>=2.3.1 in /usr/local/lib/python3.10/dist-packages (from matplotlib->persim->ripser) (3.1.2)\n",
            "Requirement already satisfied: python-dateutil>=2.7 in /usr/local/lib/python3.10/dist-packages (from matplotlib->persim->ripser) (2.8.2)\n",
            "Requirement already satisfied: six>=1.5 in /usr/local/lib/python3.10/dist-packages (from python-dateutil>=2.7->matplotlib->persim->ripser) (1.16.0)\n",
            "Building wheels for collected packages: hopcroftkarp\n",
            "  Building wheel for hopcroftkarp (setup.py) ... \u001b[?25l\u001b[?25hdone\n",
            "  Created wheel for hopcroftkarp: filename=hopcroftkarp-1.2.5-py2.py3-none-any.whl size=18101 sha256=d089760a56548ee039defe6c66aa3b476c8e4ee84c6055afbca0a384b71656a0\n",
            "  Stored in directory: /root/.cache/pip/wheels/ef/0f/3b/0f931844eecc34addd90e72d54cd39c08b7066c5f25c00b9a4\n",
            "Successfully built hopcroftkarp\n",
            "Installing collected packages: hopcroftkarp, gudhi, deprecated, pot, persim, giotto-ph, ripser\n",
            "Successfully installed deprecated-1.2.14 giotto-ph-0.2.4 gudhi-3.10.1 hopcroftkarp-1.2.5 persim-0.3.7 pot-0.9.4 ripser-0.6.10\n"
          ]
        }
      ]
    },
    {
      "cell_type": "markdown",
      "source": [
        "## Patches dataset"
      ],
      "metadata": {
        "id": "snUPs_5HR3ho"
      }
    },
    {
      "cell_type": "code",
      "source": [
        "# Load CIFAR-10 dataset\n",
        "transform = transforms.Compose([transforms.ToTensor()])\n",
        "cifar10 = datasets.CIFAR10(root='./data', train=True, download=True, transform=transform)\n",
        "data_loader = torch.utils.data.DataLoader(cifar10, batch_size=100, shuffle=True)\n",
        "\n",
        "# Extract 1000 3x3 patches\n",
        "def extract_patches(images, patch_size=(3, 3), n_patches=1000):\n",
        "    patches = []\n",
        "    images = images.permute(0, 2, 3, 1).numpy()  # Convert from (N, C, H, W) to (N, H, W, C)\n",
        "\n",
        "    num_images = images.shape[0]  # Total number of images in the batch\n",
        "\n",
        "    while len(patches) < n_patches:\n",
        "        # Randomly select an image\n",
        "        img_idx = random.randint(0, num_images - 1)\n",
        "        img = images[img_idx]\n",
        "        H, W, C = img.shape\n",
        "\n",
        "        # Get all possible patch starting coordinates\n",
        "        possible_coords = [(i, j) for i in range(H - patch_size[0] + 1) for j in range(W - patch_size[1] + 1)]\n",
        "\n",
        "        # Randomly select a patch coordinate\n",
        "        i, j = random.choice(possible_coords)\n",
        "        patch = img[i:i + patch_size[0], j:j + patch_size[1]]\n",
        "\n",
        "        patches.append(patch)\n",
        "\n",
        "    return np.array(patches)\n",
        "\n",
        "trainset = torchvision.datasets.CIFAR10(root='./data', train=True, download=True, transform=transform)\n",
        "trainloader = torch.utils.data.DataLoader(trainset, batch_size=1000, shuffle=True, num_workers=2)\n",
        "data_iter = iter(trainloader)\n",
        "images, labels = next(data_iter)\n",
        "\n",
        "# Extract 1000 3x3 patches\n",
        "patches = extract_patches(images, n_patches=1000)\n",
        "\n",
        "\n",
        "def rgb_to_grayscale(rgb_patch):\n",
        "    \"\"\"\n",
        "    Convert an RGB patch to grayscale.\n",
        "\n",
        "    Parameters:\n",
        "    rgb_patch (np.ndarray): RGB patch with shape (height, width, 3).\n",
        "\n",
        "    Returns:\n",
        "    np.ndarray: Grayscale patch with shape (height, width).\n",
        "    \"\"\"\n",
        "    return np.dot(rgb_patch[..., :3], [0.2989, 0.5870, 0.1140])\n",
        "\n",
        "# Convert all patches to grayscale\n",
        "grayscale_patches = np.array([rgb_to_grayscale(patch) for patch in patches])\n",
        "\n",
        "# Flatten the patches for TDA analysis\n",
        "patches_flat = grayscale_patches.reshape((grayscale_patches.shape[0], -1))"
      ],
      "metadata": {
        "colab": {
          "base_uri": "https://localhost:8080/"
        },
        "id": "l2Xk-DW1DZzT",
        "outputId": "7d7d0779-f7d5-4286-ceb6-365dfa5ca39b"
      },
      "execution_count": 4,
      "outputs": [
        {
          "output_type": "stream",
          "name": "stdout",
          "text": [
            "Downloading https://www.cs.toronto.edu/~kriz/cifar-10-python.tar.gz to ./data/cifar-10-python.tar.gz\n"
          ]
        },
        {
          "output_type": "stream",
          "name": "stderr",
          "text": [
            "100%|██████████| 170498071/170498071 [00:01<00:00, 86932943.86it/s]\n"
          ]
        },
        {
          "output_type": "stream",
          "name": "stdout",
          "text": [
            "Extracting ./data/cifar-10-python.tar.gz to ./data\n",
            "Files already downloaded and verified\n"
          ]
        }
      ]
    },
    {
      "cell_type": "code",
      "source": [
        "fig, axes = plt.subplots(2, 5, figsize=(12, 5))\n",
        "axes = axes.flatten()\n",
        "\n",
        "for i in range(10):\n",
        "    axes[i].imshow(patches[i])\n",
        "    axes[i].axis('off')\n",
        "    axes[i].set_title(f'Patch {i+1}')\n",
        "\n",
        "plt.tight_layout()\n",
        "plt.show()"
      ],
      "metadata": {
        "colab": {
          "base_uri": "https://localhost:8080/",
          "height": 0
        },
        "id": "tvxJ0tkBNASr",
        "outputId": "dacc5e4b-eab0-421d-e9d5-63941d816955"
      },
      "execution_count": 5,
      "outputs": [
        {
          "output_type": "display_data",
          "data": {
            "text/plain": [
              "<Figure size 1200x500 with 10 Axes>"
            ],
            "image/png": "[encoded data removed]"
          },
          "metadata": {}
        }
      ]
    },
    {
      "cell_type": "code",
      "source": [
        "# Plot 10 grayscale patches in a 2x5 grid\n",
        "fig, axes = plt.subplots(2, 5, figsize=(12, 5))\n",
        "axes = axes.flatten()\n",
        "\n",
        "for i in range(10):\n",
        "    axes[i].imshow(grayscale_patches[i], cmap='gray')\n",
        "    axes[i].axis('off')\n",
        "    axes[i].set_title(f'Patch {i+1}')\n",
        "\n",
        "plt.tight_layout()\n",
        "plt.show()"
      ],
      "metadata": {
        "colab": {
          "base_uri": "https://localhost:8080/",
          "height": 0
        },
        "id": "-ZU1XDKtOz90",
        "outputId": "e5992885-0add-4db9-ff3f-7b9d8680a1cc"
      },
      "execution_count": 6,
      "outputs": [
        {
          "output_type": "display_data",
          "data": {
            "text/plain": [
              "<Figure size 1200x500 with 10 Axes>"
            ],
            "image/png": "[encoded data removed]"
          },
          "metadata": {}
        }
      ]
    },
    {
      "cell_type": "code",
      "source": [
        "patches_flat.shape"
      ],
      "metadata": {
        "colab": {
          "base_uri": "https://localhost:8080/"
        },
        "id": "DaBZMQMdFnwq",
        "outputId": "4e42c039-33c4-463a-bcfc-5c61b9887cb1"
      },
      "execution_count": 7,
      "outputs": [
        {
          "output_type": "execute_result",
          "data": {
            "text/plain": [
              "(1000, 9)"
            ]
          },
          "metadata": {},
          "execution_count": 7
        }
      ]
    },
    {
      "cell_type": "markdown",
      "source": [
        "## Peristent homologies"
      ],
      "metadata": {
        "id": "VPSFfHZRPNZs"
      }
    },
    {
      "cell_type": "code",
      "source": [
        "from intrinsic.functional.homology import vr_diagrams, betti, persistence_entropy, total_persistence, amplitude, cross_barcode, r_cross_barcode, mtd, rtd\n",
        "from intrinsic.utils.tensorboard import draw_heatmap, plot_persistence, plot_persistence_each, plot_betti"
      ],
      "metadata": {
        "id": "gBHBPQolFtY0"
      },
      "execution_count": 11,
      "outputs": []
    },
    {
      "cell_type": "code",
      "source": [
        "# Define the maximum homology dimension to compute\n",
        "maxdim = 1\n",
        "\n",
        "# Compute Vietoris-Rips persistence diagram\n",
        "diag = vr_diagrams(patches_flat, maxdim)\n",
        "\n",
        "# Compute Betti numbers\n",
        "betti_numbers = betti(diag)"
      ],
      "metadata": {
        "id": "MVO34hZeDa6Q"
      },
      "execution_count": 9,
      "outputs": []
    },
    {
      "cell_type": "code",
      "source": [
        "print(\"Total number of 0-dimensional holes\")\n",
        "print(diag[0].shape[0])\n",
        "\n",
        "print(\"\\n[birth, death] intervals of 0-dimensional holes (k=0)\")\n",
        "print(diag[0])"
      ],
      "metadata": {
        "colab": {
          "base_uri": "https://localhost:8080/"
        },
        "id": "y2lpOVple6Op",
        "outputId": "0953f73b-0330-4b77-89dc-48193ae9e843"
      },
      "execution_count": 72,
      "outputs": [
        {
          "output_type": "stream",
          "name": "stdout",
          "text": [
            "Total number of 0-dimensional holes\n",
            "998\n",
            "\n",
            "[birth, death] intervals of 0-dimensional holes (k=0)\n",
            "[[0.         0.00436823]\n",
            " [0.         0.00575589]\n",
            " [0.         0.00634289]\n",
            " ...\n",
            " [0.         0.51316166]\n",
            " [0.         0.51418436]\n",
            " [0.         0.60920584]]\n"
          ]
        }
      ]
    },
    {
      "cell_type": "code",
      "source": [
        "print(\"Total number of 1-dimensional holes\")\n",
        "print(diag[1].shape[0])\n",
        "\n",
        "print(\"\\n[birth, death] intervals of 1-dimensional holes (k=1)\")\n",
        "print(diag[1])"
      ],
      "metadata": {
        "colab": {
          "base_uri": "https://localhost:8080/"
        },
        "id": "NItwezWffDlg",
        "outputId": "9a1b9fbd-799d-4623-ea24-088173ff6363"
      },
      "execution_count": 73,
      "outputs": [
        {
          "output_type": "stream",
          "name": "stdout",
          "text": [
            "Total number of 1-dimensional holes\n",
            "300\n",
            "\n",
            "[birth, death] intervals of 1-dimensional holes (k=1)\n",
            "[[0.5368438  0.55788547]\n",
            " [0.51999176 0.54423285]\n",
            " [0.49599087 0.525734  ]\n",
            " [0.4755452  0.5033249 ]\n",
            " [0.46962905 0.58211845]\n",
            " [0.46691534 0.51845497]\n",
            " [0.45119873 0.5531414 ]\n",
            " [0.4141961  0.4228909 ]\n",
            " [0.40365964 0.46230656]\n",
            " [0.39699253 0.42878208]\n",
            " [0.39203608 0.39576414]\n",
            " [0.39119738 0.40251172]\n",
            " [0.3904354  0.40124476]\n",
            " [0.3798127  0.3817729 ]\n",
            " [0.3788006  0.42582512]\n",
            " [0.3748506  0.394961  ]\n",
            " [0.37275526 0.40347657]\n",
            " [0.36848795 0.44483957]\n",
            " [0.36533055 0.39820725]\n",
            " [0.36400628 0.3822408 ]\n",
            " [0.3639702  0.38005787]\n",
            " [0.3550994  0.35775846]\n",
            " [0.35048765 0.364198  ]\n",
            " [0.34635642 0.3807514 ]\n",
            " [0.3459279  0.38238725]\n",
            " [0.34278038 0.41546687]\n",
            " [0.34230056 0.3767847 ]\n",
            " [0.33865    0.3727927 ]\n",
            " [0.33445096 0.35052058]\n",
            " [0.33304545 0.43301645]\n",
            " [0.33016095 0.34687784]\n",
            " [0.3262748  0.33939633]\n",
            " [0.3215118  0.3327071 ]\n",
            " [0.3197049  0.33405048]\n",
            " [0.3182863  0.32150435]\n",
            " [0.31672636 0.3660392 ]\n",
            " [0.31204188 0.35598397]\n",
            " [0.31183016 0.31475785]\n",
            " [0.31026638 0.31766686]\n",
            " [0.3101987  0.31911847]\n",
            " [0.3082358  0.31641835]\n",
            " [0.30734307 0.32921356]\n",
            " [0.30545506 0.3166902 ]\n",
            " [0.30499178 0.38432184]\n",
            " [0.3040777  0.34953466]\n",
            " [0.3028711  0.31997365]\n",
            " [0.29649478 0.32584956]\n",
            " [0.29157734 0.34162775]\n",
            " [0.2908984  0.2932366 ]\n",
            " [0.28948367 0.30135104]\n",
            " [0.28886077 0.29974464]\n",
            " [0.2881428  0.28840128]\n",
            " [0.28698912 0.3101058 ]\n",
            " [0.2858108  0.3522027 ]\n",
            " [0.2836316  0.34588367]\n",
            " [0.28303856 0.30751568]\n",
            " [0.2810898  0.2891169 ]\n",
            " [0.2789269  0.3474784 ]\n",
            " [0.27850467 0.2799663 ]\n",
            " [0.27379644 0.29746243]\n",
            " [0.27120623 0.28402433]\n",
            " [0.26980135 0.29684165]\n",
            " [0.26901063 0.27312815]\n",
            " [0.26800448 0.28091142]\n",
            " [0.26770487 0.27099258]\n",
            " [0.2659013  0.318742  ]\n",
            " [0.26481748 0.30179337]\n",
            " [0.2644194  0.2850111 ]\n",
            " [0.2641292  0.3180311 ]\n",
            " [0.2637679  0.2866358 ]\n",
            " [0.2621228  0.27308536]\n",
            " [0.26183474 0.2799357 ]\n",
            " [0.26157364 0.28307754]\n",
            " [0.26059616 0.27834377]\n",
            " [0.26039967 0.27861157]\n",
            " [0.26019198 0.28249657]\n",
            " [0.25996235 0.26085988]\n",
            " [0.2581601  0.25862455]\n",
            " [0.25778082 0.26556134]\n",
            " [0.2570164  0.26909947]\n",
            " [0.2557843  0.29527086]\n",
            " [0.2540799  0.2604802 ]\n",
            " [0.25324687 0.2712916 ]\n",
            " [0.2519957  0.2995238 ]\n",
            " [0.2511876  0.26201007]\n",
            " [0.2501969  0.2656693 ]\n",
            " [0.24797307 0.26124328]\n",
            " [0.2479088  0.25545323]\n",
            " [0.24734999 0.36779636]\n",
            " [0.24395622 0.25307193]\n",
            " [0.24165083 0.2516369 ]\n",
            " [0.24087738 0.28835085]\n",
            " [0.23996265 0.25862455]\n",
            " [0.23919973 0.240131  ]\n",
            " [0.2364604  0.29069316]\n",
            " [0.23589192 0.26816097]\n",
            " [0.23571837 0.2655053 ]\n",
            " [0.23373546 0.23576413]\n",
            " [0.23232181 0.23243408]\n",
            " [0.231654   0.24743548]\n",
            " [0.23163754 0.23498543]\n",
            " [0.23150314 0.23307951]\n",
            " [0.2310256  0.2401322 ]\n",
            " [0.23087952 0.23205005]\n",
            " [0.23070537 0.24327056]\n",
            " [0.22905803 0.2302451 ]\n",
            " [0.22880994 0.23833027]\n",
            " [0.22868913 0.23911452]\n",
            " [0.22794816 0.23646773]\n",
            " [0.22685009 0.27913418]\n",
            " [0.2255777  0.23870474]\n",
            " [0.22496359 0.255785  ]\n",
            " [0.22413886 0.23714583]\n",
            " [0.22294231 0.25445494]\n",
            " [0.2223993  0.25909346]\n",
            " [0.21944182 0.22391915]\n",
            " [0.21935548 0.24192952]\n",
            " [0.21777555 0.24201506]\n",
            " [0.21704435 0.24369325]\n",
            " [0.21659453 0.27821174]\n",
            " [0.21653527 0.21771888]\n",
            " [0.21508648 0.25379428]\n",
            " [0.21357282 0.26213062]\n",
            " [0.21314998 0.21825108]\n",
            " [0.21243604 0.23118277]\n",
            " [0.21228683 0.23136279]\n",
            " [0.21217231 0.2270227 ]\n",
            " [0.21200797 0.22723848]\n",
            " [0.21092084 0.21624207]\n",
            " [0.20903322 0.22058348]\n",
            " [0.20708863 0.27846476]\n",
            " [0.20616199 0.20998916]\n",
            " [0.2055887  0.25709176]\n",
            " [0.20129168 0.2287733 ]\n",
            " [0.20103608 0.2026598 ]\n",
            " [0.20085743 0.20436436]\n",
            " [0.20047684 0.21691057]\n",
            " [0.20032474 0.2088501 ]\n",
            " [0.19940837 0.19989693]\n",
            " [0.19872728 0.21083513]\n",
            " [0.1986512  0.20754954]\n",
            " [0.19847523 0.2169376 ]\n",
            " [0.19689906 0.21776177]\n",
            " [0.19621292 0.20654221]\n",
            " [0.19473793 0.19642763]\n",
            " [0.19411924 0.19734791]\n",
            " [0.19409038 0.2086996 ]\n",
            " [0.19354416 0.2013702 ]\n",
            " [0.19254385 0.19989447]\n",
            " [0.19208388 0.20275934]\n",
            " [0.19199038 0.20317347]\n",
            " [0.191491   0.19375946]\n",
            " [0.18949288 0.2105754 ]\n",
            " [0.18692449 0.20724933]\n",
            " [0.18400972 0.26802972]\n",
            " [0.18180917 0.1918306 ]\n",
            " [0.1815233  0.2159812 ]\n",
            " [0.18100746 0.19184805]\n",
            " [0.18077031 0.181659  ]\n",
            " [0.18043911 0.1888619 ]\n",
            " [0.17985539 0.1807982 ]\n",
            " [0.17923169 0.19334306]\n",
            " [0.17776325 0.18183638]\n",
            " [0.17661114 0.20257223]\n",
            " [0.17518838 0.18364078]\n",
            " [0.17509995 0.18673736]\n",
            " [0.17366655 0.17729884]\n",
            " [0.17297623 0.18019532]\n",
            " [0.17000638 0.17924736]\n",
            " [0.16807376 0.17209984]\n",
            " [0.16648842 0.17972507]\n",
            " [0.16615899 0.17854394]\n",
            " [0.16374034 0.17121124]\n",
            " [0.16299719 0.18100628]\n",
            " [0.16230464 0.17884813]\n",
            " [0.16222635 0.19397844]\n",
            " [0.16183954 0.16725384]\n",
            " [0.16179217 0.19129632]\n",
            " [0.1611663  0.18672866]\n",
            " [0.16074672 0.16167979]\n",
            " [0.16061397 0.17610948]\n",
            " [0.16027887 0.1622515 ]\n",
            " [0.15941942 0.16119786]\n",
            " [0.15851384 0.1709012 ]\n",
            " [0.1583593  0.19107735]\n",
            " [0.15799184 0.16593881]\n",
            " [0.15723704 0.17659084]\n",
            " [0.15670396 0.17469849]\n",
            " [0.15654998 0.1598014 ]\n",
            " [0.15653281 0.15972929]\n",
            " [0.15642725 0.1918089 ]\n",
            " [0.1554579  0.15663043]\n",
            " [0.15529883 0.16135848]\n",
            " [0.15228188 0.15548791]\n",
            " [0.1494931  0.15178871]\n",
            " [0.14633426 0.14753127]\n",
            " [0.14374393 0.14406514]\n",
            " [0.14314298 0.143349  ]\n",
            " [0.14268918 0.1648019 ]\n",
            " [0.14162286 0.14183345]\n",
            " [0.13981117 0.15699849]\n",
            " [0.13906169 0.14466177]\n",
            " [0.13853545 0.13902865]\n",
            " [0.13844581 0.15601858]\n",
            " [0.13840966 0.163379  ]\n",
            " [0.1381552  0.17729884]\n",
            " [0.13780697 0.13908535]\n",
            " [0.13656698 0.1404979 ]\n",
            " [0.1362949  0.14269151]\n",
            " [0.13517267 0.14128773]\n",
            " [0.13462032 0.14559723]\n",
            " [0.13437435 0.14851278]\n",
            " [0.13385685 0.14280942]\n",
            " [0.13249733 0.13538429]\n",
            " [0.13112667 0.13129294]\n",
            " [0.13082968 0.1331777 ]\n",
            " [0.12834449 0.13833536]\n",
            " [0.1279268  0.13226904]\n",
            " [0.12716237 0.13254783]\n",
            " [0.12314144 0.14144126]\n",
            " [0.12285911 0.12441652]\n",
            " [0.12285677 0.12980554]\n",
            " [0.1224492  0.12672879]\n",
            " [0.12231424 0.13258055]\n",
            " [0.12162299 0.15118735]\n",
            " [0.12115887 0.1262929 ]\n",
            " [0.11916595 0.12192161]\n",
            " [0.11868634 0.12328959]\n",
            " [0.118142   0.14406493]\n",
            " [0.11758766 0.13331611]\n",
            " [0.11736734 0.1246625 ]\n",
            " [0.1172708  0.12195685]\n",
            " [0.11693858 0.12644187]\n",
            " [0.11678429 0.11748779]\n",
            " [0.11670955 0.12609173]\n",
            " [0.11581657 0.13053825]\n",
            " [0.11479624 0.13226904]\n",
            " [0.11465258 0.11650828]\n",
            " [0.11371004 0.11388277]\n",
            " [0.11366357 0.14460938]\n",
            " [0.11216862 0.11721545]\n",
            " [0.11053787 0.13367341]\n",
            " [0.11035106 0.11894666]\n",
            " [0.10944453 0.11161599]\n",
            " [0.10909309 0.12566777]\n",
            " [0.10863886 0.11405414]\n",
            " [0.10511403 0.11309989]\n",
            " [0.10191612 0.11474612]\n",
            " [0.10183582 0.10936389]\n",
            " [0.09984093 0.10401608]\n",
            " [0.09977853 0.11800539]\n",
            " [0.09921148 0.10228899]\n",
            " [0.09838511 0.10084055]\n",
            " [0.09816153 0.11341729]\n",
            " [0.09764858 0.10160937]\n",
            " [0.09725058 0.10560679]\n",
            " [0.09703714 0.10013625]\n",
            " [0.09603849 0.09897661]\n",
            " [0.09504802 0.09923022]\n",
            " [0.09472993 0.10429431]\n",
            " [0.0936046  0.1010901 ]\n",
            " [0.09253424 0.0971783 ]\n",
            " [0.09195916 0.09313292]\n",
            " [0.09150536 0.10015851]\n",
            " [0.0893105  0.10347044]\n",
            " [0.08896892 0.10957772]\n",
            " [0.08805259 0.09416343]\n",
            " [0.08803613 0.10200473]\n",
            " [0.08649919 0.08819159]\n",
            " [0.08604845 0.09202676]\n",
            " [0.08600655 0.09446961]\n",
            " [0.08581726 0.09073388]\n",
            " [0.08414749 0.09748849]\n",
            " [0.08305588 0.09191323]\n",
            " [0.07961763 0.08813348]\n",
            " [0.07777876 0.08097651]\n",
            " [0.07567178 0.07739081]\n",
            " [0.07365552 0.07483889]\n",
            " [0.0729974  0.07555097]\n",
            " [0.07220583 0.08222823]\n",
            " [0.07003444 0.07235494]\n",
            " [0.06988563 0.07192666]\n",
            " [0.06906886 0.07152011]\n",
            " [0.0662436  0.06802592]\n",
            " [0.06582575 0.06635844]\n",
            " [0.06457052 0.07182147]\n",
            " [0.06279798 0.0706865 ]\n",
            " [0.06014811 0.0725945 ]\n",
            " [0.05849018 0.06334354]\n",
            " [0.05800416 0.0695967 ]\n",
            " [0.05442672 0.05910903]\n",
            " [0.05280112 0.06236286]\n",
            " [0.05251206 0.05838651]\n",
            " [0.05232203 0.05732235]\n",
            " [0.0494126  0.04966905]\n",
            " [0.04901345 0.0539076 ]\n",
            " [0.04620538 0.0538863 ]\n",
            " [0.04532012 0.04634696]\n",
            " [0.04086425 0.04120423]\n",
            " [0.0319306  0.03309499]]\n"
          ]
        }
      ]
    },
    {
      "cell_type": "code",
      "source": [
        "# Plot persistence diagram (H0 -- 0-dimensional holes, H1 -- 1-dimensional holes)\n",
        "\n",
        "print(plot_persistence(diag))"
      ],
      "metadata": {
        "colab": {
          "base_uri": "https://localhost:8080/",
          "height": 466
        },
        "id": "9awSQxgygMUX",
        "outputId": "21f8e208-aca8-41fb-bf68-2fc73a2fe093"
      },
      "execution_count": 75,
      "outputs": [
        {
          "output_type": "stream",
          "name": "stdout",
          "text": [
            "Figure(640x480)\n"
          ]
        },
        {
          "output_type": "display_data",
          "data": {
            "text/plain": [
              "<Figure size 640x480 with 1 Axes>"
            ],
            "image/png": "[encoded data removed]"
          },
          "metadata": {}
        }
      ]
    },
    {
      "cell_type": "code",
      "source": [
        "# Plot persistence diagrams separately for different dimensions of holes\n",
        "\n",
        "print(plot_persistence_each(diag))"
      ],
      "metadata": {
        "colab": {
          "base_uri": "https://localhost:8080/",
          "height": 322
        },
        "id": "1IUQcxoIhKez",
        "outputId": "07492fa8-f9a1-410b-d005-e6383a858c92"
      },
      "execution_count": 76,
      "outputs": [
        {
          "output_type": "stream",
          "name": "stdout",
          "text": [
            "Figure(640x480)\n"
          ]
        },
        {
          "output_type": "display_data",
          "data": {
            "text/plain": [
              "<Figure size 640x480 with 2 Axes>"
            ],
            "image/png": "[encoded data removed]"
          },
          "metadata": {}
        }
      ]
    },
    {
      "cell_type": "code",
      "source": [
        "# Plot Betti curves\n",
        "\n",
        "print(plot_betti(betti_numbers))"
      ],
      "metadata": {
        "colab": {
          "base_uri": "https://localhost:8080/",
          "height": 447
        },
        "id": "vGxCHr3jhsS4",
        "outputId": "e2b880f2-44cb-4e2d-e847-696f936f9444"
      },
      "execution_count": 81,
      "outputs": [
        {
          "output_type": "stream",
          "name": "stdout",
          "text": [
            "Figure(640x480)\n"
          ]
        },
        {
          "output_type": "display_data",
          "data": {
            "text/plain": [
              "<Figure size 640x480 with 1 Axes>"
            ],
            "image/png": "[encoded data removed]"
          },
          "metadata": {}
        }
      ]
    },
    {
      "cell_type": "code",
      "source": [
        "# Compute persistence entropy\n",
        "entropy = persistence_entropy(diag)\n",
        "\n",
        "print(\"Sample persistence entropy by dimensions:\")\n",
        "print(entropy)"
      ],
      "metadata": {
        "colab": {
          "base_uri": "https://localhost:8080/"
        },
        "id": "BqgL8dBiMjHi",
        "outputId": "2cbc60f8-3563-4a19-ee9a-6af9a3888772"
      },
      "execution_count": 60,
      "outputs": [
        {
          "output_type": "stream",
          "name": "stdout",
          "text": [
            "Sample persistence entropy by dimensions:\n",
            "[6.7054267 5.4822016]\n"
          ]
        }
      ]
    },
    {
      "cell_type": "code",
      "source": [
        "# Compute total persistence\n",
        "total_persistence_value = total_persistence(diag, q=1)\n",
        "\n",
        "print(\"Sample total persistence:\")\n",
        "print(total_persistence_value)"
      ],
      "metadata": {
        "colab": {
          "base_uri": "https://localhost:8080/"
        },
        "id": "1ASWI5V_MlGX",
        "outputId": "29037e05-65b8-44fe-e0a1-8998c571ad3a"
      },
      "execution_count": 61,
      "outputs": [
        {
          "output_type": "stream",
          "name": "stdout",
          "text": [
            "Sample total persistence:\n",
            "131.40765\n"
          ]
        }
      ]
    },
    {
      "cell_type": "code",
      "source": [
        "# Compute amplitude\n",
        "amplitude_value = amplitude(diag, p=1)\n",
        "\n",
        "print(\"Sample total persistence amplitude:\")\n",
        "print(amplitude_value)"
      ],
      "metadata": {
        "colab": {
          "base_uri": "https://localhost:8080/"
        },
        "id": "5SHz30FSMm1X",
        "outputId": "5e5fd660-82d6-403a-b377-a8517b85843d"
      },
      "execution_count": 65,
      "outputs": [
        {
          "output_type": "stream",
          "name": "stdout",
          "text": [
            "Sample total persistence amplitude:\n",
            "92.91924310787088\n"
          ]
        }
      ]
    },
    {
      "cell_type": "markdown",
      "source": [
        "With `maxdim=2` (0,1,2-dimensional holes):"
      ],
      "metadata": {
        "id": "sj1Iwx0snGe9"
      }
    },
    {
      "cell_type": "code",
      "source": [
        "# Define the maximum homology dimension to compute\n",
        "maxdim = 2\n",
        "\n",
        "# Compute Vietoris-Rips persistence diagram\n",
        "diag = vr_diagrams(patches_flat, maxdim)"
      ],
      "metadata": {
        "id": "-uyUVZlUnEaZ"
      },
      "execution_count": 115,
      "outputs": []
    },
    {
      "cell_type": "code",
      "source": [
        "print(\"Total number of 2-dimensional holes\")\n",
        "print(diag[2].shape[0])\n",
        "\n",
        "print(\"\\n[birth, death] intervals of 2-dimensional holes (k=2)\")\n",
        "print(diag[2])"
      ],
      "metadata": {
        "colab": {
          "base_uri": "https://localhost:8080/"
        },
        "outputId": "ac378a77-7f45-4830-ab4d-4cddbdc3b858",
        "id": "OtDz4I8fnEaZ"
      },
      "execution_count": 116,
      "outputs": [
        {
          "output_type": "stream",
          "name": "stdout",
          "text": [
            "Total number of 2-dimensional holes\n",
            "30\n",
            "\n",
            "[birth, death] intervals of 2-dimensional holes (k=2)\n",
            "[[0.45406666 0.521712  ]\n",
            " [0.44658253 0.46682128]\n",
            " [0.44554308 0.47193605]\n",
            " [0.4258869  0.43088987]\n",
            " [0.4251352  0.42695984]\n",
            " [0.41733637 0.42981392]\n",
            " [0.384719   0.4050059 ]\n",
            " [0.37435502 0.38067818]\n",
            " [0.3431561  0.36108157]\n",
            " [0.33171687 0.3434421 ]\n",
            " [0.32060978 0.3411384 ]\n",
            " [0.31483296 0.32012808]\n",
            " [0.30923948 0.31377548]\n",
            " [0.2965225  0.30386248]\n",
            " [0.2923656  0.29560983]\n",
            " [0.25709176 0.25846437]\n",
            " [0.24646899 0.24928789]\n",
            " [0.24369325 0.24928789]\n",
            " [0.23745163 0.2479429 ]\n",
            " [0.23089156 0.2496158 ]\n",
            " [0.21288231 0.21542522]\n",
            " [0.21010771 0.21533406]\n",
            " [0.17895259 0.18060274]\n",
            " [0.17534855 0.18038115]\n",
            " [0.16212322 0.16966218]\n",
            " [0.12637788 0.14220656]\n",
            " [0.12007981 0.12198305]\n",
            " [0.0976763  0.0978691 ]\n",
            " [0.09663252 0.10362538]\n",
            " [0.07566885 0.07930145]]\n"
          ]
        }
      ]
    },
    {
      "cell_type": "code",
      "source": [
        "# Plot persistence diagram (H0 -- 0-dimensional holes, H1 -- 1-dimensional holes, H2 -- 2-dimensional holes)\n",
        "\n",
        "print(plot_persistence(diag))"
      ],
      "metadata": {
        "colab": {
          "base_uri": "https://localhost:8080/",
          "height": 466
        },
        "outputId": "77490ec1-d5a5-4231-9d66-7ac0544e424c",
        "id": "W8kPV39jnEaZ"
      },
      "execution_count": 117,
      "outputs": [
        {
          "output_type": "stream",
          "name": "stdout",
          "text": [
            "Figure(640x480)\n"
          ]
        },
        {
          "output_type": "display_data",
          "data": {
            "text/plain": [
              "<Figure size 640x480 with 1 Axes>"
            ],
            "image/png": "[encoded data removed]"
          },
          "metadata": {}
        }
      ]
    },
    {
      "cell_type": "markdown",
      "source": [
        "Compare two persistence diagrams:"
      ],
      "metadata": {
        "id": "t0rLcnfxYwrl"
      }
    },
    {
      "cell_type": "code",
      "source": [
        "# Calculate cross barcode\n",
        "cross_barcode(patches_flat[:50], patches_flat[50:100])"
      ],
      "metadata": {
        "colab": {
          "base_uri": "https://localhost:8080/"
        },
        "id": "g1ea5slXZnzG",
        "outputId": "3a54f58f-51fa-44ee-fd9a-0da296e8d0cc"
      },
      "execution_count": 15,
      "outputs": [
        {
          "output_type": "execute_result",
          "data": {
            "text/plain": [
              "[array([[0.        , 0.02754692],\n",
              "        [0.        , 0.0533763 ],\n",
              "        [0.        , 0.05348929],\n",
              "        [0.        , 0.05526336],\n",
              "        [0.        , 0.05644242],\n",
              "        [0.        , 0.06200393],\n",
              "        [0.        , 0.06256161],\n",
              "        [0.        , 0.06329791],\n",
              "        [0.        , 0.07458024],\n",
              "        [0.        , 0.07823767],\n",
              "        [0.        , 0.07980557],\n",
              "        [0.        , 0.0810131 ],\n",
              "        [0.        , 0.08110824],\n",
              "        [0.        , 0.084318  ],\n",
              "        [0.        , 0.08632328],\n",
              "        [0.        , 0.08753315],\n",
              "        [0.        , 0.08931556],\n",
              "        [0.        , 0.09072672],\n",
              "        [0.        , 0.09371755],\n",
              "        [0.        , 0.09715562],\n",
              "        [0.        , 0.10418525],\n",
              "        [0.        , 0.10758656],\n",
              "        [0.        , 0.10785123],\n",
              "        [0.        , 0.10820525],\n",
              "        [0.        , 0.1092421 ],\n",
              "        [0.        , 0.11116652],\n",
              "        [0.        , 0.11329619],\n",
              "        [0.        , 0.11348848],\n",
              "        [0.        , 0.11566239],\n",
              "        [0.        , 0.11828218],\n",
              "        [0.        , 0.11971468],\n",
              "        [0.        , 0.12578528],\n",
              "        [0.        , 0.12781058],\n",
              "        [0.        , 0.12904204],\n",
              "        [0.        , 0.12921116],\n",
              "        [0.        , 0.13052103],\n",
              "        [0.        , 0.13206613],\n",
              "        [0.        , 0.13232537],\n",
              "        [0.        , 0.1344313 ],\n",
              "        [0.        , 0.13514532],\n",
              "        [0.        , 0.13705271],\n",
              "        [0.        , 0.14184675],\n",
              "        [0.        , 0.1439746 ],\n",
              "        [0.        , 0.14556584],\n",
              "        [0.        , 0.14801027],\n",
              "        [0.        , 0.14976478],\n",
              "        [0.        , 0.14982904],\n",
              "        [0.        , 0.15012899],\n",
              "        [0.        , 0.15029909],\n",
              "        [0.        , 0.15153894],\n",
              "        [0.        , 0.15315181],\n",
              "        [0.        , 0.15551916],\n",
              "        [0.        , 0.1572379 ],\n",
              "        [0.        , 0.16150106],\n",
              "        [0.        , 0.16328008],\n",
              "        [0.        , 0.16344588],\n",
              "        [0.        , 0.16582476],\n",
              "        [0.        , 0.16710104],\n",
              "        [0.        , 0.16720869],\n",
              "        [0.        , 0.17015927],\n",
              "        [0.        , 0.18040928],\n",
              "        [0.        , 0.18049566],\n",
              "        [0.        , 0.18268122],\n",
              "        [0.        , 0.18368621],\n",
              "        [0.        , 0.19273861],\n",
              "        [0.        , 0.19321853],\n",
              "        [0.        , 0.19418761],\n",
              "        [0.        , 0.1949031 ],\n",
              "        [0.        , 0.19779408],\n",
              "        [0.        , 0.19892137],\n",
              "        [0.        , 0.21940063],\n",
              "        [0.        , 0.22402492],\n",
              "        [0.        , 0.22514045],\n",
              "        [0.        , 0.2344484 ],\n",
              "        [0.        , 0.23820314],\n",
              "        [0.        , 0.24796616],\n",
              "        [0.        , 0.25623357],\n",
              "        [0.        , 0.25746897],\n",
              "        [0.        , 0.25830132],\n",
              "        [0.        , 0.2656984 ],\n",
              "        [0.        , 0.2723083 ],\n",
              "        [0.        , 0.2811568 ],\n",
              "        [0.        , 0.28383452],\n",
              "        [0.        , 0.28431314],\n",
              "        [0.        , 0.28463548],\n",
              "        [0.        , 0.29806125],\n",
              "        [0.        , 0.30171013],\n",
              "        [0.        , 0.30496436],\n",
              "        [0.        , 0.3306958 ],\n",
              "        [0.        , 0.346525  ],\n",
              "        [0.        , 0.34680018],\n",
              "        [0.        , 0.37988907],\n",
              "        [0.        , 0.38062003],\n",
              "        [0.        , 0.3939118 ],\n",
              "        [0.        , 0.40673807],\n",
              "        [0.        , 0.44199044],\n",
              "        [0.        , 0.44218177],\n",
              "        [0.        , 0.44233948],\n",
              "        [0.        , 0.44468018],\n",
              "        [0.        ,        inf]], dtype=float32),\n",
              " array([[0.6099181 , 0.61520475],\n",
              "        [0.4454851 , 0.46744177],\n",
              "        [0.34367627, 0.3456643 ],\n",
              "        [0.34215432, 0.39397517],\n",
              "        [0.33019271, 0.3322201 ],\n",
              "        [0.315681  , 0.3186939 ],\n",
              "        [0.3079183 , 0.31283092],\n",
              "        [0.2662534 , 0.2820941 ],\n",
              "        [0.25239438, 0.2677969 ],\n",
              "        [0.20395555, 0.20692144],\n",
              "        [0.19986676, 0.2014761 ],\n",
              "        [0.18368778, 0.19852555],\n",
              "        [0.08466966, 0.08650456]], dtype=float32)]"
            ]
          },
          "metadata": {},
          "execution_count": 15
        }
      ]
    },
    {
      "cell_type": "code",
      "source": [
        "# Calculate r cross barcode\n",
        "r_cross_barcode(patches_flat[:50], patches_flat[50:100])"
      ],
      "metadata": {
        "colab": {
          "base_uri": "https://localhost:8080/"
        },
        "id": "gRpAfSu7aHaz",
        "outputId": "ca3aee3a-1869-4abe-a0c4-ce3efc784845"
      },
      "execution_count": 16,
      "outputs": [
        {
          "output_type": "execute_result",
          "data": {
            "text/plain": [
              "[array([[ 0., inf]], dtype=float32),\n",
              " array([[0.40209717, 0.4260825 ],\n",
              "        [0.3939118 , 0.39976475],\n",
              "        [0.38730815, 0.44614866],\n",
              "        [0.38062003, 0.42459214],\n",
              "        [0.33792412, 0.37709114],\n",
              "        [0.33019271, 0.47706833],\n",
              "        [0.29701248, 0.33876082],\n",
              "        [0.22402492, 0.2723083 ],\n",
              "        [0.21831286, 0.4293417 ],\n",
              "        [0.19955608, 0.22265553],\n",
              "        [0.19892137, 0.38170582],\n",
              "        [0.1833293 , 0.23279375],\n",
              "        [0.1759713 , 0.19012262],\n",
              "        [0.17532177, 0.37988907],\n",
              "        [0.17015927, 0.21713331],\n",
              "        [0.16691375, 0.27226064],\n",
              "        [0.1668196 , 0.18029177],\n",
              "        [0.16328008, 0.41300365],\n",
              "        [0.1572379 , 0.2534078 ],\n",
              "        [0.15315181, 0.38382998],\n",
              "        [0.14801027, 0.22743556],\n",
              "        [0.1439746 , 0.15841134],\n",
              "        [0.1019889 , 0.18268122],\n",
              "        [0.09371755, 0.31627452],\n",
              "        [0.09142885, 0.5633814 ]], dtype=float32)]"
            ]
          },
          "metadata": {},
          "execution_count": 16
        }
      ]
    },
    {
      "cell_type": "code",
      "source": [
        "# Calculate rtd score\n",
        "rtd(patches_flat[:50], patches_flat[50:100])"
      ],
      "metadata": {
        "colab": {
          "base_uri": "https://localhost:8080/"
        },
        "id": "DGjMaDz9aPOc",
        "outputId": "4df9de53-66c6-4b61-f69d-b5ba1fffb7b1"
      },
      "execution_count": 18,
      "outputs": [
        {
          "output_type": "execute_result",
          "data": {
            "text/plain": [
              "array([0.        , 2.70524965])"
            ]
          },
          "metadata": {},
          "execution_count": 18
        }
      ]
    },
    {
      "cell_type": "code",
      "source": [
        "# Calculate mtd score\n",
        "mtd(patches_flat[:50], patches_flat[50:100])"
      ],
      "metadata": {
        "colab": {
          "base_uri": "https://localhost:8080/"
        },
        "id": "3bE7QmX6aNNj",
        "outputId": "2131fa45-7637-4ff9-a9be-9f5ed687f7fa"
      },
      "execution_count": 17,
      "outputs": [
        {
          "output_type": "execute_result",
          "data": {
            "text/plain": [
              "array([17.9485536 ,  0.14349621])"
            ]
          },
          "metadata": {},
          "execution_count": 17
        }
      ]
    },
    {
      "cell_type": "markdown",
      "source": [
        "## Magnitude"
      ],
      "metadata": {
        "id": "w07aItonQzcb"
      }
    },
    {
      "cell_type": "code",
      "source": [
        "from intrinsic.functional.magnitude import magnitude"
      ],
      "metadata": {
        "id": "xHSAdUkeQ09n"
      },
      "execution_count": 53,
      "outputs": []
    },
    {
      "cell_type": "code",
      "source": [
        "magnitude_value = magnitude(patches_flat[:100])\n",
        "\n",
        "print(\"Magnitude of 100 patches:\")\n",
        "print(magnitude_value)"
      ],
      "metadata": {
        "colab": {
          "base_uri": "https://localhost:8080/"
        },
        "id": "6Df1JUrgIT4u",
        "outputId": "167edee0-9b88-43a4-d32a-9a3584905796"
      },
      "execution_count": 59,
      "outputs": [
        {
          "output_type": "stream",
          "name": "stdout",
          "text": [
            "Magnitude of 100 patches:\n",
            "3.0556038209527183\n"
          ]
        }
      ]
    },
    {
      "cell_type": "markdown",
      "source": [
        "## Intrinsic dimension"
      ],
      "metadata": {
        "id": "FSabgLEwRQ8j"
      }
    },
    {
      "cell_type": "code",
      "source": [
        "from intrinsic.functional.dimension import mle, mm, pca_sklearn, pca, local_pca, two_nn\n",
        "from intrinsic.utils.math import mle_aggregate\n",
        "from intrinsic.utils.tensorboard import plot_dimension"
      ],
      "metadata": {
        "id": "pTiC8D7URQjq"
      },
      "execution_count": 32,
      "outputs": []
    },
    {
      "cell_type": "code",
      "source": [
        "id_mle = mle(patches_flat[:200], k=10)\n",
        "\n",
        "print(\"ID (MLE) at each point:\")\n",
        "print(id_mle)\n",
        "\n",
        "print(\"\\nGlobal ID (MLE):\")\n",
        "print(mle_aggregate(id_mle))"
      ],
      "metadata": {
        "colab": {
          "base_uri": "https://localhost:8080/"
        },
        "id": "-IPBYI0gRDvu",
        "outputId": "b65e50ec-6453-4cd3-92b5-1fccdc0dfab2"
      },
      "execution_count": 34,
      "outputs": [
        {
          "output_type": "stream",
          "name": "stdout",
          "text": [
            "ID (MLE) at each point:\n",
            "[ 4.7931674   3.59094015  5.37431925  4.11757623  1.78056695 12.64260429\n",
            " 11.83566617  4.12101196 10.14402181  5.87039685 11.70343161 11.46092951\n",
            "  2.43678567  1.70015832  1.63843921  9.09343374  6.48431612  1.09284438\n",
            "  3.65522878  3.99641998  3.66439585  3.23321818 13.87287875  5.90246759\n",
            "  4.48522649  2.11614456  4.94385371  3.72129783  1.80541179  5.8945577\n",
            "  1.84048561  7.7865729   2.48533631  4.46135011  3.17704383  3.19543742\n",
            "  3.242646   14.95825842  2.67097937  1.30553068  2.80232405 13.98461382\n",
            "  8.51219268  9.61060519  2.75440489  4.8474796   3.01678664  2.43153536\n",
            "  2.54695915  0.89944352  3.44262259  2.20243064  1.81136563  3.32027562\n",
            "  1.88556723  5.11985443  4.40853989  3.23634342  6.057483    3.46920615\n",
            "  1.04245254 11.32029715  1.92274394  3.50985885  7.20295209  8.06315842\n",
            "  6.5201101   5.42085111  2.24098567  3.08422326  8.96414708  2.18819865\n",
            "  1.64879069  7.79068401  1.47627631  7.59332711  1.02128397  3.57985757\n",
            "  2.56605232  7.89886945  2.29449141  1.9150842   2.30727947  2.51608151\n",
            "  3.50299619  0.97474141  4.83501123  7.21987029  3.97701378  5.95948727\n",
            "  3.6669523   8.22843555  5.91829667  3.41103037  2.9797526   2.75706922\n",
            "  5.39599579  1.67607832  4.89734567  0.90987823  1.86369131  2.01219878\n",
            " 16.91329586  1.44062652  6.87773535 10.37002003  6.50009717  3.36990133\n",
            "  3.85011195  1.38995508  4.34543958  2.97874263  7.15792853  4.74570936\n",
            "  4.84545382  4.87068471 10.25220695  3.57491997 12.12704179  5.71570833\n",
            "  1.32403001  5.91376411  6.83797358  1.72569125 10.57816654  3.53422046\n",
            "  1.22634901  6.41208187  5.63259988 10.15624642  3.01994323  5.21018965\n",
            "  5.14195767  5.44573086  2.2858073   3.87844037  2.63479268  5.07343306\n",
            "  1.48710195  2.34774783  4.65789504  4.8620652   2.61771167  4.32824064\n",
            "  2.31425755  2.67542037  4.33829825  4.72985079  1.65679717  6.7910846\n",
            "  6.08291238  2.66802246  2.42502475  4.84921731  6.51852634 11.46673923\n",
            "  5.23219315  3.28852373  1.99289929  7.15999179  1.47842779  3.27838333\n",
            "  5.84750789  3.7573767   1.89167856  2.8095318   3.01273784  4.27556418\n",
            "  2.7007055   7.84983047  4.97391489 11.08452862  6.58305581  2.18164865\n",
            "  6.24601177  6.48833248  2.21349794  6.83295134  8.93178517  9.02131012\n",
            "  8.66879448  4.02938571  2.92740013  8.16366299  3.99666354  2.77265797\n",
            "  4.28898709  3.10012204  2.06951021  5.37402792  2.21056988  3.65433022\n",
            "  6.20776876  4.15806528  1.82608082  3.61137568  5.01234958  2.99279932\n",
            "  6.03473566  5.80942079]\n",
            "\n",
            "Global ID (MLE):\n",
            "3.246090872587731\n"
          ]
        }
      ]
    },
    {
      "cell_type": "code",
      "source": [
        "id_mm = mm(patches_flat[:200], k=10)\n",
        "\n",
        "print(\"ID (MM) at each point:\")\n",
        "print(id_mm)\n",
        "\n",
        "print(\"\\nGlobal ID (MM):\")\n",
        "print(id_mm.mean())"
      ],
      "metadata": {
        "colab": {
          "base_uri": "https://localhost:8080/"
        },
        "id": "Swg7u1ubSU9a",
        "outputId": "17262546-5a75-4b61-fbeb-4d8bac481e05"
      },
      "execution_count": 28,
      "outputs": [
        {
          "output_type": "stream",
          "name": "stdout",
          "text": [
            "ID (MM) at each point:\n",
            "[ 5.12780623  4.31567868  5.6404403   4.3402399   1.72736707 13.91159674\n",
            " 13.05872774  4.29901199 11.18520831  6.88368336 12.78731352 12.61192096\n",
            "  2.71418863  2.07047915  1.78329026 10.02993112  6.92366734  1.19037029\n",
            "  4.23245615  4.47285482  3.83410874  3.3868458  15.14397138  6.75160833\n",
            "  4.73669694  2.16868298  5.52612112  4.12121671  1.77156326  6.56180044\n",
            "  2.16847517  8.71621881  2.62278333  4.72649195  3.25700741  3.41600002\n",
            "  3.63250264 16.6894164   2.80749159  1.31571814  3.26332504 15.77581948\n",
            "  9.47132331 10.72519174  3.04822082  5.42776764  3.21953979  2.76825908\n",
            "  2.64157841  0.91651329  3.63826864  2.33667876  1.89351384  3.65086576\n",
            "  1.9797116   5.35941261  4.74567678  3.500795    6.50417191  3.72601406\n",
            "  1.1399418  12.62544913  2.05061305  3.91236216  7.97326986  8.70571313\n",
            "  7.36180403  6.08074929  2.30990048  3.58824648 10.23753644  2.18949749\n",
            "  1.65243278  8.30205632  1.69870311  8.2889846   1.10632536  3.96793479\n",
            "  2.56788074  8.64256002  2.43890959  2.00019611  2.32478099  2.65025443\n",
            "  3.5693653   1.03736242  5.35973043  7.73694269  4.32054452  6.60414961\n",
            "  3.98880395  8.97520316  6.43401429  3.59884894  3.34204516  2.7164274\n",
            "  6.10350723  1.99574815  5.34545306  0.9056412   2.19645824  2.47624007\n",
            " 18.7626767   1.53577134  8.60650333 11.64198329  6.99182106  3.97535053\n",
            "  4.06101522  1.31190436  4.69978235  3.25273786  8.61662128  5.37831987\n",
            "  5.0682749   5.365133   11.10719349  4.03756385 13.64946558  6.43450334\n",
            "  1.29105002  6.24627893  7.37294307  1.90459966 11.72766932  4.08459614\n",
            "  1.25589045  7.35768763  6.06654735 11.48183676  3.37762619  6.35652058\n",
            "  5.49329072  6.33907366  2.73884888  4.32848355  2.70522506  5.611619\n",
            "  1.53446407  2.32925929  4.97642019  5.05900884  2.65259212  4.54864117\n",
            "  2.43203593  3.04226331  4.63024988  4.95340923  2.08389874  7.42866416\n",
            "  6.58910046  2.73088573  2.64683731  5.79136463  7.23667617 13.08725115\n",
            "  5.70742607  3.35820702  2.30877745  7.81526761  1.51181416  3.78416679\n",
            "  6.29993368  4.0482642   2.13305328  2.80344656  3.19129646  4.51076865\n",
            "  2.90304236  8.55671057  5.20945139 12.35974402  7.17652763  2.89364119\n",
            "  6.8848819   7.56974555  2.33912074  7.37542358  9.96492566  9.97780191\n",
            "  9.50291199  4.16927254  3.31186291  8.84473379  5.13837643  2.93382413\n",
            "  4.69498262  3.55151906  2.41778636  5.73244486  2.70533217  3.84665125\n",
            "  6.85569827  4.67143611  1.93199827  3.8489158   5.25320806  3.05041922\n",
            "  6.45771864  6.21521331]\n",
            "\n",
            "Global ID (MM):\n",
            "5.2379168208653235\n"
          ]
        }
      ]
    },
    {
      "cell_type": "code",
      "source": [
        "id_pca_sklearn = pca_sklearn(patches_flat[:200], explained_variance=0.95)\n",
        "\n",
        "print(\"ID (PCA sklearn):\")\n",
        "print(id_pca_sklearn)"
      ],
      "metadata": {
        "colab": {
          "base_uri": "https://localhost:8080/"
        },
        "id": "DLbKYuwDXM6l",
        "outputId": "2c49b0e6-e601-4f74-cc4a-54fafa51ee45"
      },
      "execution_count": 27,
      "outputs": [
        {
          "output_type": "stream",
          "name": "stdout",
          "text": [
            "ID (PCA sklearn):\n",
            "2\n"
          ]
        }
      ]
    },
    {
      "cell_type": "code",
      "source": [
        "id_pca = pca(patches_flat[:200], explained_variance=0.95)\n",
        "\n",
        "print(\"ID (PCA):\")\n",
        "print(id_pca)"
      ],
      "metadata": {
        "colab": {
          "base_uri": "https://localhost:8080/"
        },
        "id": "QBBJK4U9XfSS",
        "outputId": "6763807e-707c-4c5a-8a2b-359cdfb15377"
      },
      "execution_count": 26,
      "outputs": [
        {
          "output_type": "stream",
          "name": "stdout",
          "text": [
            "ID (PCA):\n",
            "2\n"
          ]
        }
      ]
    },
    {
      "cell_type": "code",
      "source": [
        "id_local_pca = local_pca(patches_flat[:200], k=10, explained_variance=0.95)\n",
        "\n",
        "print(\"ID (local PCA) at each point:\")\n",
        "print(id_local_pca)\n",
        "\n",
        "print(\"\\nMean ID (local PCA):\")\n",
        "print(id_local_pca.mean())"
      ],
      "metadata": {
        "colab": {
          "base_uri": "https://localhost:8080/"
        },
        "id": "iz2EBHznX3Ss",
        "outputId": "d04c1479-a405-40b8-8263-324e8cc31003"
      },
      "execution_count": 25,
      "outputs": [
        {
          "output_type": "stream",
          "name": "stdout",
          "text": [
            "ID (local PCA) at each point:\n",
            "[4 5 5 5 5 3 4 5 4 5 4 4 5 4 5 4 3 2 5 4 5 5 4 4 4 4 5 5 5 5 4 4 4 4 5 4 5\n",
            " 5 4 5 5 4 4 4 5 4 5 4 4 2 4 4 5 4 5 3 4 3 4 5 2 4 4 5 3 5 5 5 4 5 4 4 5 4\n",
            " 4 4 2 5 5 4 2 1 5 4 4 2 5 5 5 4 4 4 5 4 4 4 5 4 4 2 4 4 4 5 4 4 4 4 4 4 4\n",
            " 4 5 4 4 5 4 4 4 4 4 4 4 4 3 4 5 5 3 4 4 3 4 4 4 4 3 3 5 3 5 4 4 3 4 4 3 3\n",
            " 4 4 4 4 4 4 4 3 4 4 3 5 4 3 4 3 4 3 3 4 4 4 4 4 3 4 3 3 5 4 3 4 3 3 4 3 4\n",
            " 4 5 4 4 4 4 4 3 4 5 3 3 4 4 4]\n",
            "\n",
            "Mean ID (local PCA):\n",
            "4.015\n"
          ]
        }
      ]
    },
    {
      "cell_type": "code",
      "source": [
        "id_twonn = two_nn(patches_flat[:200])\n",
        "\n",
        "print(\"ID (TwoNN):\")\n",
        "print(id_twonn)"
      ],
      "metadata": {
        "colab": {
          "base_uri": "https://localhost:8080/"
        },
        "id": "47Tls_qBYNt6",
        "outputId": "6b568a46-b6ef-47a6-a897-cfe03f141560"
      },
      "execution_count": 24,
      "outputs": [
        {
          "output_type": "stream",
          "name": "stdout",
          "text": [
            "ID (TwoNN):\n",
            "3.975851410450249\n"
          ]
        }
      ]
    },
    {
      "cell_type": "code",
      "source": [
        "# id_estimates = [mle_aggregate(id_mle), id_mm.mean(), id_pca_sklearn, id_pca, id_local_pca.mean(), id_twonn]\n",
        "id_estimates = [mle_aggregate(id_mle), id_mm.mean(), id_pca_sklearn, id_pca, id_local_pca.mean(), id_twonn]\n",
        "columns = [\"MLE\", \"MM\", \"PCA sklearn\", \"PCA (SVD)\", \"Local PCA\", \"TwoNN\"]\n",
        "\n",
        "plot_dimension(id_estimates, columns)"
      ],
      "metadata": {
        "colab": {
          "base_uri": "https://localhost:8080/",
          "height": 535
        },
        "id": "gnXtF_WnjPBL",
        "outputId": "55917b16-75c2-4a3f-ebed-60b96ad164fc"
      },
      "execution_count": 114,
      "outputs": [
        {
          "output_type": "execute_result",
          "data": {
            "text/plain": [
              "<Axes: xlabel='Method', ylabel='ID'>"
            ]
          },
          "metadata": {},
          "execution_count": 114
        },
        {
          "output_type": "display_data",
          "data": {
            "text/plain": [
              "<Figure size 640x480 with 1 Axes>"
            ],
            "image/png": "[encoded data removed]"
          },
          "metadata": {}
        }
      ]
    },
    {
      "cell_type": "markdown",
      "source": [
        "## Curvature"
      ],
      "metadata": {
        "id": "8PUvJSkxZM1x"
      }
    },
    {
      "cell_type": "code",
      "source": [
        "from intrinsic.utils.math import mle_aggregate\n",
        "from intrinsic.functional.curvature import density, mean_density, volume, quadratic_fit, curvature"
      ],
      "metadata": {
        "id": "dUj3mru6ZMlh"
      },
      "execution_count": 35,
      "outputs": []
    },
    {
      "cell_type": "code",
      "source": [
        "id_mle = mle_aggregate(mle(patches_flat[:300], k=10))"
      ],
      "metadata": {
        "id": "9w5QYlPCZMj9"
      },
      "execution_count": 40,
      "outputs": []
    },
    {
      "cell_type": "code",
      "source": [
        "density_est = density(patches_flat[:300], k=10, dim=id_mle)\n",
        "\n",
        "print(\"Density estimates at each point:\")\n",
        "print(density_est)"
      ],
      "metadata": {
        "colab": {
          "base_uri": "https://localhost:8080/"
        },
        "id": "Bue3HGWTYqbD",
        "outputId": "3ef42986-d281-4632-e002-81629bd5e9b7"
      },
      "execution_count": 42,
      "outputs": [
        {
          "output_type": "stream",
          "name": "stdout",
          "text": [
            "Density estimates at each point:\n",
            "[0.05495432 0.05281785 0.05252239 0.05316574 0.05608394 0.05285664\n",
            " 0.040742   0.05367209 0.04024257 0.0532013  0.05055329 0.04983595\n",
            " 0.05277039 0.05591783 0.0555483  0.0523598  0.05398684 0.05092695\n",
            " 0.03874712 0.05213237 0.0547573  0.05471002 0.04325222 0.04489666\n",
            " 0.05104869 0.05401517 0.05312108 0.05159134 0.05542213 0.05305177\n",
            " 0.0559601  0.0489971  0.05576808 0.05529095 0.0557766  0.05553776\n",
            " 0.0542247  0.0499645  0.05551924 0.0559754  0.05336455 0.05448387\n",
            " 0.05351784 0.05189708 0.05315155 0.05588075 0.05355444 0.05505742\n",
            " 0.0557622  0.04929873 0.05236511 0.05447263 0.05559936 0.05595806\n",
            " 0.05499987 0.05355063 0.05554031 0.05536427 0.05220392 0.05315629\n",
            " 0.04228767 0.04907967 0.05533854 0.05260384 0.05174435 0.04805194\n",
            " 0.05257754 0.05203939 0.05559125 0.05335213 0.05405    0.05470844\n",
            " 0.05462453 0.05200588 0.0557694  0.05382391 0.04307286 0.04206482\n",
            " 0.05374611 0.04703919 0.05207553 0.05010751 0.05522672 0.05555685\n",
            " 0.05485965 0.05052701 0.04441757 0.05449221 0.05151575 0.05290572\n",
            " 0.05050258 0.04381267 0.05023305 0.05435611 0.05323043 0.0558195\n",
            " 0.04361255 0.05585296 0.05068958 0.04823755 0.05594051 0.05591071\n",
            " 0.04815665 0.05606325 0.0500947  0.04737387 0.0516227  0.04938271\n",
            " 0.05476717 0.05614348 0.05446464 0.05583191 0.05193881 0.0515398\n",
            " 0.05475841 0.05335209 0.05144968 0.04221178 0.05337763 0.05351333\n",
            " 0.05605331 0.05188036 0.05451561 0.05594949 0.05425526 0.04895827\n",
            " 0.05608043 0.04258743 0.05435052 0.05448358 0.05582355 0.04440782\n",
            " 0.05530548 0.05224234 0.05541082 0.05372029 0.05526874 0.05422332\n",
            " 0.05569943 0.05568966 0.05446768 0.05547879 0.05553052 0.04981215\n",
            " 0.055123   0.05535381 0.05450825 0.05477496 0.05582761 0.05465227\n",
            " 0.05199067 0.05540395 0.05434042 0.04970008 0.05485048 0.05026129\n",
            " 0.05575637 0.05559524 0.05540228 0.05390056 0.05577966 0.05552529\n",
            " 0.05400718 0.05565052 0.05550906 0.05049393 0.05564165 0.05457995\n",
            " 0.05542653 0.05500223 0.05379496 0.05010449 0.05077722 0.05558865\n",
            " 0.05397359 0.05045122 0.0556952  0.05283867 0.0525687  0.05112734\n",
            " 0.05212098 0.05428707 0.05569519 0.05027022 0.04856571 0.05489731\n",
            " 0.04893656 0.05588101 0.05514301 0.05413692 0.05556159 0.05458615\n",
            " 0.05222727 0.05275536 0.05579767 0.05097516 0.05372524 0.05501571\n",
            " 0.05482846 0.05500623 0.05421211 0.05493359 0.05564597 0.04940347\n",
            " 0.05303529 0.05572115 0.05567794 0.05570152 0.05598055 0.04576877\n",
            " 0.0355433  0.05474606 0.05546479 0.05559519 0.03211349 0.05564498\n",
            " 0.05554888 0.04231578 0.05534581 0.05516891 0.05233714 0.0556864\n",
            " 0.03646277 0.05137121 0.05391812 0.05425155 0.05544664 0.05556062\n",
            " 0.05336025 0.0547047  0.04949386 0.0533627  0.05596107 0.04537741\n",
            " 0.05424503 0.05244307 0.05480164 0.05491946 0.05066244 0.05443827\n",
            " 0.05581604 0.0556277  0.05322414 0.05465293 0.05510342 0.05223979\n",
            " 0.05062079 0.05554322 0.05500875 0.05492262 0.05422666 0.05304089\n",
            " 0.04802363 0.05548886 0.03999853 0.05552632 0.05510347 0.05239636\n",
            " 0.03673388 0.02760623 0.05548986 0.0538814  0.05441109 0.05581768\n",
            " 0.05414531 0.05300008 0.05547088 0.05377633 0.05211434 0.0434615\n",
            " 0.05201811 0.05473641 0.05599406 0.05587111 0.0444222  0.05558859\n",
            " 0.04480474 0.05567546 0.05595102 0.05542622 0.04600276 0.05462398\n",
            " 0.04843146 0.0547229  0.05540579 0.05554133 0.05356858 0.05069102\n",
            " 0.05331975 0.05356361 0.05595841 0.05488906 0.05566195 0.0527232\n",
            " 0.0515763  0.05567182 0.03754454 0.04945881 0.04891448 0.05588813]\n"
          ]
        }
      ]
    },
    {
      "cell_type": "code",
      "source": [
        "print(\"Mean density (mu) array is of shape:\")\n",
        "print(mean_density(patches_flat[:300], k=10, dim=id_mle).shape)"
      ],
      "metadata": {
        "colab": {
          "base_uri": "https://localhost:8080/"
        },
        "id": "tAmu-me1aQLR",
        "outputId": "0308b308-558b-4810-e814-c500cb3f9d37"
      },
      "execution_count": 44,
      "outputs": [
        {
          "output_type": "execute_result",
          "data": {
            "text/plain": [
              "(300, 10)"
            ]
          },
          "metadata": {},
          "execution_count": 44
        }
      ]
    },
    {
      "cell_type": "code",
      "source": [
        "print(\"Volume estimate for each point at each radii (k):\")\n",
        "print(volume(patches_flat[:300], k=10, dim=id_mle))\n",
        "\n",
        "print(\"\\nShape of this array is:\")\n",
        "print(volume(patches_flat[:300], k=10, dim=id_mle).shape)"
      ],
      "metadata": {
        "colab": {
          "base_uri": "https://localhost:8080/"
        },
        "id": "DCsgegI6bqZ8",
        "outputId": "8d704c89-10ac-4503-844f-73d490a89c33"
      },
      "execution_count": 51,
      "outputs": [
        {
          "output_type": "stream",
          "name": "stdout",
          "text": [
            "Volume estimate for each point at each radii (k):\n",
            "[[ 1.99010031  3.97596438  5.97095003 ... 15.95401454 17.95452666\n",
            "  19.94387702]\n",
            " [ 2.08211464  4.18767249  6.23675932 ... 16.69399755 18.776597\n",
            "  20.88987804]\n",
            " [ 2.03976033  4.11449236  6.14546084 ... 16.46450025 18.49365635\n",
            "  20.55069184]\n",
            " ...\n",
            " [ 2.10744253  4.24345068  6.49345102 ... 16.89908597 18.99412694\n",
            "  21.02964532]\n",
            " [ 2.04673235  4.09480502  6.16898919 ... 16.49246942 18.49104163\n",
            "  20.52061429]\n",
            " [ 1.98729557  3.97353253  5.96829161 ... 15.94131716 17.92355722\n",
            "  19.91874123]]\n",
            "\n",
            "Shape of this array is:\n",
            "(300, 10)\n"
          ]
        }
      ]
    },
    {
      "cell_type": "code",
      "source": [
        "print(\"Quadratic fit values (\\widehat{C}) for each point:\")\n",
        "print(quadratic_fit(patches_flat[:300], k=10, dim=id_mle))"
      ],
      "metadata": {
        "colab": {
          "base_uri": "https://localhost:8080/"
        },
        "id": "phIrxgD3afL3",
        "outputId": "9fb26cae-c045-4cd7-e869-cd01c518fa62"
      },
      "execution_count": 48,
      "outputs": [
        {
          "output_type": "stream",
          "name": "stdout",
          "text": [
            "Quadratic fit values (\\widehat{C}) for each point:\n",
            "[3.73760499e+04 5.52737934e+03 3.24372929e+03 5.20061692e+03\n",
            " 6.42040602e+05 4.34876085e+03 6.43838039e+01 7.39222881e+03\n",
            " 5.35322382e+01 6.50577502e+03 1.19809931e+03 9.16881582e+02\n",
            " 5.54552912e+03 5.27595651e+05 1.60377742e+05 3.05057981e+03\n",
            " 1.12985365e+04 2.19213230e+03 6.55653501e+01 3.14826984e+03\n",
            " 2.54247573e+04 2.71637030e+04 1.22339720e+02 2.19681526e+02\n",
            " 1.43441003e+03 1.16689915e+04 5.32836043e+03 2.25473129e+03\n",
            " 8.41452450e+04 5.28020144e+03 4.91353162e+05 6.30809471e+02\n",
            " 2.21245814e+05 6.44624759e+04 1.97217346e+05 1.29011100e+05\n",
            " 1.70700100e+04 8.97003245e+02 1.15850594e+05 4.73453498e+05\n",
            " 9.08584091e+03 2.01355779e+04 7.88716587e+03 2.24018328e+03\n",
            " 6.67077673e+03 3.38962875e+05 8.17029531e+03 6.45770208e+04\n",
            " 2.28928189e+05 8.73845552e+02 3.24896754e+03 2.30579599e+04\n",
            " 1.64901506e+05 4.80682696e+05 5.21195824e+04 6.78922382e+03\n",
            " 1.17796967e+05 7.97548117e+04 2.67642158e+03 5.41304290e+03\n",
            " 1.43584005e+02 5.92439213e+02 8.22208111e+04 4.14789683e+03\n",
            " 2.07297617e+03 4.45463062e+02 3.85839932e+03 2.51526695e+03\n",
            " 1.33735892e+05 8.26049353e+03 1.15355877e+04 2.32934973e+04\n",
            " 2.50139186e+04 2.54953235e+03 3.77629886e+05 9.98403769e+03\n",
            " 1.71689889e+02 1.17691235e+02 7.62559276e+03 3.25078301e+02\n",
            " 3.35042549e+03 1.15594530e+03 5.54685435e+04 1.38649865e+05\n",
            " 2.84464417e+04 1.78173729e+03 1.78823309e+02 2.07289555e+04\n",
            " 2.18553127e+03 4.19333588e+03 1.31039862e+03 1.43213580e+02\n",
            " 9.84734199e+02 1.69179196e+04 7.71896706e+03 1.96887716e+05\n",
            " 1.45228313e+02 3.70331737e+05 1.31892673e+03 6.10493940e+02\n",
            " 6.14572258e+05 5.63219566e+05 4.75454544e+02 8.12509278e+05\n",
            " 1.15156920e+03 3.53975214e+02 1.87442306e+03 9.71285672e+02\n",
            " 2.72538957e+04 1.05118872e+06 1.91120325e+04 3.28418687e+05\n",
            " 2.37899263e+03 2.12056490e+03 2.67665943e+04 6.82658855e+03\n",
            " 1.51262052e+03 9.91933191e+01 6.47067318e+03 7.71918767e+03\n",
            " 8.63511696e+05 2.41321705e+03 2.28527817e+04 4.12622577e+05\n",
            " 1.49792808e+04 9.54351227e+02 7.48983566e+05 1.10457792e+02\n",
            " 1.92495996e+04 2.08480380e+04 2.96791070e+05 2.08735735e+02\n",
            " 6.67579272e+04 3.24286583e+03 1.02609346e+05 8.93833294e+03\n",
            " 6.31464743e+04 1.49707445e+04 2.15872885e+05 1.92554079e+05\n",
            " 1.97491579e+04 9.02349027e+04 1.28379360e+05 8.75666512e+02\n",
            " 5.16562277e+04 1.03638519e+05 2.09506756e+04 2.95200262e+04\n",
            " 3.03881731e+05 2.23741442e+04 2.45662708e+03 8.70338365e+04\n",
            " 2.10578161e+04 1.06329268e+03 3.25234076e+04 1.03538967e+03\n",
            " 2.19405849e+05 1.48339935e+05 8.62864675e+04 1.01577978e+04\n",
            " 2.25896112e+05 1.14115856e+05 1.18061813e+04 1.51781705e+05\n",
            " 1.28997450e+05 1.14069896e+03 1.48837095e+05 2.24908275e+04\n",
            " 8.47934155e+04 4.35902891e+04 9.89614078e+03 8.98943687e+02\n",
            " 1.35630527e+03 1.75294520e+05 1.13837009e+04 1.13391717e+03\n",
            " 1.60724836e+05 4.47228612e+03 3.79949040e+03 1.46140165e+03\n",
            " 2.48283624e+03 1.50212229e+04 1.95648924e+05 1.05334154e+03\n",
            " 8.01959194e+02 4.41357630e+04 6.22241768e+02 2.94829146e+05\n",
            " 5.71696087e+04 1.33219401e+04 1.57370235e+05 2.37426558e+04\n",
            " 2.78250306e+03 4.32446506e+03 2.95795738e+05 1.54215869e+03\n",
            " 9.02605220e+03 4.17384797e+04 3.05478772e+04 3.84287157e+04\n",
            " 1.35709652e+04 3.58063173e+04 1.50938987e+05 7.28050078e+02\n",
            " 4.61825544e+03 2.34041968e+05 1.95498814e+05 2.28001235e+05\n",
            " 3.98601614e+05 2.25216543e+02 3.82161735e+01 2.91094756e+04\n",
            " 1.06077155e+05 1.35924454e+05 8.61308088e+00 2.20079123e+05\n",
            " 1.31191267e+05 1.29904489e+02 8.41369219e+04 5.35304335e+04\n",
            " 3.33720656e+03 2.59392328e+05 4.10669875e+01 1.59973426e+03\n",
            " 1.06318728e+04 1.60416685e+04 1.10388874e+05 1.16890084e+05\n",
            " 6.12251838e+03 3.29081855e+04 9.01224315e+02 6.57319648e+03\n",
            " 3.57263017e+05 3.00107372e+02 1.61585754e+04 3.07219258e+03\n",
            " 3.07576235e+04 4.33724674e+04 1.14411166e+03 1.83476216e+04\n",
            " 3.56302966e+05 1.65467539e+05 5.53473176e+03 2.62461409e+04\n",
            " 6.64979097e+04 3.49172792e+03 1.26083519e+03 1.04062097e+05\n",
            " 5.58798959e+04 3.56840211e+04 1.33656901e+04 5.11021915e+03\n",
            " 5.13831265e+02 1.34811614e+05 7.53613148e+01 1.70934981e+05\n",
            " 4.98634495e+04 3.34634700e+03 4.36788776e+01 6.45578752e+00\n",
            " 1.39236567e+05 8.35974035e+03 1.90626258e+04 3.23958817e+05\n",
            " 1.43656488e+04 4.97762756e+03 9.35891834e+04 9.10702852e+03\n",
            " 2.84064463e+03 1.25981112e+02 2.42305119e+03 3.77571613e+04\n",
            " 6.48283245e+05 3.19226524e+05 2.02246590e+02 1.85191875e+05\n",
            " 1.93956584e+02 2.04062053e+05 5.05228617e+05 8.88759282e+04\n",
            " 3.10564132e+02 2.41597422e+04 6.60835210e+02 3.04323923e+04\n",
            " 1.23301312e+05 1.20291999e+05 8.13943350e+03 1.60298321e+03\n",
            " 5.52210103e+03 7.05730934e+03 6.50917452e+05 4.52450033e+04\n",
            " 1.95925669e+05 4.29676687e+03 2.18175357e+03 2.54849880e+05\n",
            " 2.85706916e+01 7.64544441e+02 5.96714330e+02 4.56135415e+05]\n"
          ]
        }
      ]
    },
    {
      "cell_type": "code",
      "source": [
        "print(\"Curvature estimation:\")\n",
        "print(curvature(patches_flat[:300], k=10, dim=id_mle))"
      ],
      "metadata": {
        "colab": {
          "base_uri": "https://localhost:8080/"
        },
        "id": "wjmE4IxUbRAE",
        "outputId": "08768023-eb81-495c-b26b-cede2ed1aab2"
      },
      "execution_count": 52,
      "outputs": [
        {
          "output_type": "stream",
          "name": "stdout",
          "text": [
            "Curvature estimation:\n",
            "[-1.17833253e+06 -1.74258406e+05 -1.02263127e+05 -1.63956761e+05\n",
            " -2.02412328e+07 -1.37100801e+05 -2.02978996e+03 -2.33050408e+05\n",
            " -1.68767909e+03 -2.05103706e+05 -3.77717655e+04 -2.89059812e+04\n",
            " -1.74830604e+05 -1.66331948e+07 -5.05613384e+06 -9.61738183e+04\n",
            " -3.56202251e+05 -6.91100532e+04 -2.06703986e+03 -9.92536338e+04\n",
            " -8.01551226e+05 -8.56373935e+05 -3.85693172e+03 -6.92576902e+03\n",
            " -4.52217932e+04 -3.67881366e+05 -1.67984055e+05 -7.10835745e+04\n",
            " -2.65279718e+06 -1.66465775e+05 -1.54905994e+07 -1.98871556e+04\n",
            " -6.97508542e+06 -2.03227020e+06 -6.21755415e+06 -4.06725636e+06\n",
            " -5.38156070e+05 -2.82792887e+04 -3.65235288e+06 -1.49262873e+07\n",
            " -2.86443911e+05 -6.34802407e+05 -2.48653995e+05 -7.06249282e+04\n",
            " -2.10305617e+05 -1.06862813e+07 -2.57580049e+05 -2.03588139e+06\n",
            " -7.21728309e+06 -2.75492099e+04 -1.02428271e+05 -7.26934611e+05\n",
            " -5.19875185e+06 -1.51541979e+07 -1.64314313e+06 -2.14039828e+05\n",
            " -3.71371503e+06 -2.51438259e+06 -8.43779540e+04 -1.70653789e+05\n",
            " -4.52668766e+03 -1.86774793e+04 -2.59212669e+06 -1.30768280e+05\n",
            " -6.53534887e+04 -1.40438495e+04 -1.21641464e+05 -7.92973276e+04\n",
            " -4.21621206e+06 -2.60423675e+05 -3.63675623e+05 -7.34360256e+05\n",
            " -7.88598958e+05 -8.03775924e+04 -1.19053132e+07 -3.14760828e+05\n",
            " -5.41276520e+03 -3.71038168e+03 -2.40407535e+05 -1.02485506e+04\n",
            " -1.05626875e+05 -3.64428010e+04 -1.74872383e+06 -4.37113195e+06\n",
            " -8.96814078e+05 -5.61717737e+04 -5.63765628e+03 -6.53509473e+05\n",
            " -6.89019465e+04 -1.32200810e+05 -4.13121591e+04 -4.51500951e+03\n",
            " -3.10451304e+04 -5.33361205e+05 -2.43351291e+05 -6.20716211e+06\n",
            " -4.57852680e+03 -1.16752288e+07 -4.15810197e+04 -1.92466799e+04\n",
            " -1.93752547e+07 -1.77562888e+07 -1.49893731e+04 -2.56154976e+07\n",
            " -3.63048383e+04 -1.11595664e+04 -5.90938228e+04 -3.06211466e+04\n",
            " -8.59217388e+05 -3.31402025e+07 -6.02533699e+05 -1.03538609e+07\n",
            " -7.50010882e+04 -6.68537903e+04 -8.43854526e+05 -2.15217804e+05\n",
            " -4.76874889e+04 -3.12720887e+03 -2.03997071e+05 -2.43358246e+05\n",
            " -2.72234205e+07 -7.60800611e+04 -7.20466080e+05 -1.30085070e+07\n",
            " -4.72242890e+05 -3.00872645e+04 -2.36127601e+07 -3.48233723e+03\n",
            " -6.06870696e+05 -6.57263714e+05 -9.35675582e+06 -6.58068758e+03\n",
            " -2.10463753e+06 -1.02235905e+05 -3.23490392e+06 -2.81793515e+05\n",
            " -1.99078140e+06 -4.71973774e+05 -6.80569626e+06 -6.07053811e+06\n",
            " -6.22619973e+05 -2.84478220e+06 -4.04733984e+06 -2.76066182e+04\n",
            " -1.62853522e+06 -3.26735004e+06 -6.60499510e+05 -9.30660337e+05\n",
            " -9.58029890e+06 -7.05376359e+05 -7.74486232e+04 -2.74386408e+06\n",
            " -6.63877263e+05 -3.35217968e+04 -1.02534616e+06 -3.26421152e+04\n",
            " -6.91707793e+06 -4.67662505e+06 -2.72030223e+06 -3.20238858e+05\n",
            " -7.12169258e+06 -3.59766283e+06 -3.72206469e+05 -4.78513168e+06\n",
            " -4.06682602e+06 -3.59621387e+04 -4.69229871e+06 -7.09054964e+05\n",
            " -2.67323166e+06 -1.37424516e+06 -3.11989754e+05 -2.83404638e+04\n",
            " -4.27594308e+04 -5.52640624e+06 -3.58887180e+05 -3.57483332e+04\n",
            " -5.06707646e+06 -1.40995109e+05 -1.19784278e+05 -4.60727419e+04\n",
            " -7.82749040e+04 -4.73565176e+05 -6.16810745e+06 -3.32080733e+04\n",
            " -2.52828913e+04 -1.39144199e+06 -1.96170467e+04 -9.29490343e+06\n",
            " -1.80235231e+06 -4.19992894e+05 -4.96131797e+06 -7.48520610e+05\n",
            " -8.77223217e+04 -1.36334842e+05 -9.32537658e+06 -4.86187214e+04\n",
            " -2.84558988e+05 -1.31586427e+06 -9.63064784e+05 -1.21151930e+06\n",
            " -4.27843763e+05 -1.12884450e+06 -4.75856382e+06 -2.29528025e+04\n",
            " -1.45596997e+05 -7.37850216e+06 -6.16337501e+06 -7.18805954e+06\n",
            " -1.25664764e+07 -7.10026822e+03 -1.20481861e+03 -9.17717151e+05\n",
            " -3.34423149e+06 -4.28520956e+06 -2.71539486e+02 -6.93830382e+06\n",
            " -4.13598918e+06 -4.09542169e+03 -2.65253478e+06 -1.68762219e+06\n",
            " -1.05210130e+05 -8.17770790e+06 -1.29469453e+03 -5.04338721e+04\n",
            " -3.35184742e+05 -5.05736158e+05 -3.48016449e+06 -3.68512428e+06\n",
            " -1.93021002e+05 -1.03747682e+06 -2.84123638e+04 -2.07229262e+05\n",
            " -1.12632190e+07 -9.46130691e+03 -5.09421813e+05 -9.68551914e+04\n",
            " -9.69677333e+05 -1.36737803e+06 -3.60697289e+04 -5.78434571e+05\n",
            " -1.12329520e+07 -5.21659686e+06 -1.74490202e+05 -8.27446500e+05\n",
            " -2.09644011e+06 -1.10081633e+05 -3.97496024e+04 -3.28070395e+06\n",
            " -1.76169230e+06 -1.12498894e+06 -4.21372176e+05 -1.61106845e+05\n",
            " -1.61992532e+04 -4.25012570e+06 -2.37587142e+03 -5.38896565e+06\n",
            " -1.57201536e+06 -1.05498295e+05 -1.37703804e+03 -2.03527780e+02\n",
            " -4.38962856e+06 -2.63552570e+05 -6.00976086e+05 -1.02132573e+07\n",
            " -4.52897279e+05 -1.56926708e+05 -2.95053061e+06 -2.87111880e+05\n",
            " -8.95553166e+04 -3.97173171e+03 -7.63900961e+04 -1.19034760e+06\n",
            " -2.04380409e+07 -1.00640651e+07 -6.37610816e+03 -5.83843427e+06\n",
            " -6.11475405e+03 -6.43334317e+06 -1.59280426e+07 -2.80193861e+06\n",
            " -9.79097098e+03 -7.61669845e+05 -2.08337593e+04 -9.59423962e+05\n",
            " -3.88724725e+06 -3.79237443e+06 -2.56607087e+05 -5.05362998e+04\n",
            " -1.74092000e+05 -2.22491601e+05 -2.05210880e+07 -1.42641235e+06\n",
            " -6.17683223e+06 -1.35461618e+05 -6.87828492e+04 -8.03450085e+06\n",
            " -9.00731230e+02 -2.41033386e+04 -1.88122583e+04 -1.43803104e+07]\n"
          ]
        }
      ]
    },
    {
      "cell_type": "code",
      "source": [],
      "metadata": {
        "id": "F3WVq2rUcKCa"
      },
      "execution_count": null,
      "outputs": []
    }
  ]
}